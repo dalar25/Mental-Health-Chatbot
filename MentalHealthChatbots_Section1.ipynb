{
  "nbformat": 4,
  "nbformat_minor": 0,
  "metadata": {
    "colab": {
      "provenance": []
    },
    "kernelspec": {
      "name": "python3",
      "display_name": "Python 3"
    }
  },
  "cells": [
    {
      "cell_type": "markdown",
      "metadata": {
        "id": "c2ar1w-bud2W"
      },
      "source": [
        "#MindBot: Creating a Chatbot for Mental Health\n",
        "\n",
        "A **chatbot** is any computer program that you can have a conversation with, from voice assistants such as Siri and Amazon Alexa to customer service bots on shopping websites.\n",
        "\n",
        "Since doctors and other medical professionals have very limited time, the healthcare industry has begun turning to chatbots in order to better assist patients, no matter what time of day. For example, chatbots can remind patients to measure their blood pressure, take medication, or schedule a meeting with their doctor. To take another example, chatbots can answer medical questions that people have and can even make diagnoses based on their self-reported symptoms.\n",
        "\n",
        "![link](https://i0.wp.com/woebothealth.com/wp-content/uploads/2020/09/woebot_featured_092220.jpg?fit=1200%2C630&ssl=1)\n",
        "\n",
        "## Project Outline\n",
        "\n",
        "In this project, we will create a chatbot that will provide mental health services. The general outline for this project is as follows:\n",
        "*   Module 1: Exploring ELIZA and creating a simple rule-based architecture\n",
        "*   Module 2: Using sequence models such as RNNs and LSTMs to build a more advanced chatbot\n",
        "*   Module 3: Creating a state of the art transformer-based architecture for our chatbot\n",
        "\n",
        "This will be the outline for today's notebook\n",
        "1. Explore ELIZA: the psychotherapy chatbot\n",
        "2. Create a simple rule-based chatbot\n",
        "3. Write rules that respond to feelings\n",
        "4. Generate different types of rules and hold small conversations"
      ]
    },
    {
      "cell_type": "code",
      "metadata": {
        "id": "ifvA3Uyh_D_r",
        "cellView": "form"
      },
      "source": [
        "#@title Run this cell to import your libraries\n",
        "\n",
        "import nltk"
      ],
      "execution_count": null,
      "outputs": []
    },
    {
      "cell_type": "markdown",
      "metadata": {
        "id": "R4mWXlFRXka9"
      },
      "source": [
        "##ELIZA: The psychotherapy chatbot\n",
        "\n",
        "In 1966, Joseph Weizenbaum created one of the very first chatbots, which he named **ELIZA**. ELIZA was designed to test the question of whether a computer could appear human to a conversation partner. ELIZA does so by engaging in **Rogerian psychotherapy**, which is a form of therapy in which the therapist largely repeats what the patient says back to them in the form of a question or request for more information.\n",
        "\n",
        "For example, consider the following exchange with ELIZA:\n",
        "\n",
        "> **Person**: Men are all alike.\n",
        "\n",
        "> **ELIZA** : In what way?\n",
        "\n",
        "> **Person** : They're always bugging us about something or other.\n",
        "\n",
        "> **ELIZA** : Can you think of a specific example?\n",
        "\n",
        "> **Person** : Well, my boyfriend made me come here.\n",
        "\n",
        "> **ELIZA** : Your boyfriend made you come here?\n",
        "\n",
        "> **Person** : He says I'm depressed much of the time.\n",
        "\n",
        "> **ELIZA** : I am sorry to hear that you are depressed.\n",
        "\n",
        "> **Person** : It's true. I am unhappy.\n",
        "\n",
        "> **ELIZA** : Do you think coming here will help you not to be unhappy?\n",
        "\n",
        "> **Person** : I need some help, that much seems certain.\n",
        "\n",
        "> **ELIZA** : What would it mean to you if you got some help?\n",
        "\n",
        "> **Person** : Perhaps I could learn to get along with my mother.\n",
        "\n",
        "> **ELIZA** : Tell me more about your family\n",
        "\n"
      ]
    },
    {
      "cell_type": "markdown",
      "metadata": {
        "id": "BUKo5rI2iM2X"
      },
      "source": [
        "**Question**: Why might a Rogerian psychotherapist chatbot have an easier time impersonating a human?"
      ]
    },
    {
      "cell_type": "markdown",
      "metadata": {
        "id": "WWfFL0zJiuVK"
      },
      "source": [
        "**Optional**: Try playing around with ELIZA at [this link](https://www.eclecticenergies.com/ego/eliza). What interesting things about your conversation do you notice?"
      ]
    },
    {
      "cell_type": "markdown",
      "metadata": {
        "id": "M4ZPfg1PeZo-"
      },
      "source": [
        "###How do you think ELIZA works?\n",
        "\n",
        "Can you write down some of the rules and commands that might be encoded into ELIZA?"
      ]
    },
    {
      "cell_type": "code",
      "metadata": {
        "id": "XsJJK6ciaFeu",
        "cellView": "form"
      },
      "source": [
        "#@title Write some of those rules here!\n",
        "\n",
        "rule1 = \"\" #@param {type:\"string\"}\n",
        "rule2 = \"\" #@param {type:\"string\"}\n",
        "rule3 = \"\" #@param {type:\"string\"}"
      ],
      "execution_count": null,
      "outputs": []
    },
    {
      "cell_type": "markdown",
      "metadata": {
        "id": "hdfSeY9oFRiI"
      },
      "source": [
        "## Creating a rule-based chatbot\n",
        "\n",
        "ELIZA is an example of a **rule-based chatbot**, which is a type of chatbot that responds to users by following a series of rules. Rule-based chatbots process a user's input, check whether the input matches a set of pre-defined patterns, and respond with a pre-defined associated response. For example, we can write a rule for our chatbot so that if it sees the words \"I'm feeling lonely\", then the program responds \"Why are you feeling lonely today?\""
      ]
    },
    {
      "cell_type": "markdown",
      "metadata": {
        "id": "w_Qf_WiQnHu_"
      },
      "source": [
        "Creating a rule-based chatbot is a good way to get a sense of what types of things a user might say. Let's go ahead and create one now. First, let's choose a name for your chatbot! 😊"
      ]
    },
    {
      "cell_type": "code",
      "metadata": {
        "id": "YqL-_n38noOt",
        "cellView": "both"
      },
      "source": [
        "name = \"Eliza\" ## YOUR CODE HERE -- pick any name you want!"
      ],
      "execution_count": null,
      "outputs": []
    },
    {
      "cell_type": "markdown",
      "metadata": {
        "id": "woDyI-2jrC1E"
      },
      "source": [
        "### Tokenization\n",
        "\n",
        "The first step in creating a rule-based chatbot is to process a user's input. We need to turn the user's input into a form that the computer can interpret. To do this, we will use a technique called **tokenization**.\n",
        "\n",
        "Tokenization is a process of turning sentences into individual **tokens**, like words. For example, if the user inputs the string `\"Hello, I really like computers!\"`, then our tokenizer might convert this to `[\"Hello\", \",\" \"I\", \"really\", \"like\", \"computers\", \"!\"]`. Or, if we want to get rid of punctuation as well, then our tokenizer might instead convert this to `[\"Hello\", \"I\", \"really\", \"like\", \"computers\"]`.\n",
        "\n",
        "**Exercise**: Use the `tokenize` function from the `nltk` library to write a function that tokenizes words.\n",
        "\n",
        "**Note**: We are using a `RegexpTokenizer`, which allows us to also remove punctuation (we have done so for you)."
      ]
    },
    {
      "cell_type": "code",
      "metadata": {
        "id": "HQevy6g00rrV",
        "cellView": "both"
      },
      "source": [
        "def tokenize(input):\n",
        "  tokenizer = nltk.RegexpTokenizer(r\"\\w+\")\n",
        "  tokens = tokenizer.tokenize(input)\n",
        "  return tokens"
      ],
      "execution_count": null,
      "outputs": []
    },
    {
      "cell_type": "markdown",
      "metadata": {
        "id": "xKMcrSBbDuCg"
      },
      "source": [
        "### Keywords\n",
        "\n",
        "Now that we have tokenized our user's input, we can check whether the input matches a set of pre-defined patterns. ELIZA looks for **keywords** in a conversation and then returns a certain response based off those keywords. ELIZA can adapt what it says depending on the combinations of keywords that it observes.\n",
        "\n",
        "Let's start by considering what keywords might indicate hellos and goodbyes. Fill in the lists below with all the keywords you can think of. For example, `hello_keywords` might contain \"hello\", \"hi\", \"howdy\", and so on. What other keywords can you think of?\n",
        "\n",
        "**Exercise**: Fill in `hello_keywords` and `goodbye_keywords` with the appropriate keywords that you can think of."
      ]
    },
    {
      "cell_type": "code",
      "metadata": {
        "id": "Xs_bDTvKoSZD",
        "cellView": "both"
      },
      "source": [
        "hello_keywords = [\"hello\", \"whats up\", \"hey\"] ## TODO: [ FILL IN INPUTS ]\n",
        "goodbye_keywords = [\"bye\", \"see you\", \"goodbye\"] ## TODO: [ FILL IN INPUTS ]"
      ],
      "execution_count": null,
      "outputs": []
    },
    {
      "cell_type": "markdown",
      "metadata": {
        "id": "jDFq07SV6JH4"
      },
      "source": [
        "### Responses\n",
        "\n",
        "Once ELIZA detects a certain combination of keywords, it returns a **response** that matches that combination. In your chatbot, when you detect a keyword in `hello_keywords`, you should return an appropriate response. Similarly, you should return an appropriate reponse when you detect a keyword in `goodbye_keywords`.\n",
        "\n",
        "**Exercise**: Define an appropriate response for keywords in `hello_keywords` and an appropriate response for keywords in `goodbye_keywords`."
      ]
    },
    {
      "cell_type": "code",
      "metadata": {
        "id": "ibXCNcfi63vF",
        "cellView": "both"
      },
      "source": [
        "hello_response = \"How are you?\" ## YOUR CODE HERE\n",
        "goodbye_response = \"Hope you found this helpful\" ## YOUR CODE HERE"
      ],
      "execution_count": null,
      "outputs": []
    },
    {
      "cell_type": "markdown",
      "metadata": {
        "id": "YxX6VAdm7K2u"
      },
      "source": [
        "Finally, we also need a **default response**, which is a response that the chatbot will give if it doesn't know what to say to the user. For example, one common default response is \"Sorry, I didn't understand that.\" You can come up with whatever default response you like.\n",
        "\n",
        "**Exercise**: Define an appropriate default response."
      ]
    },
    {
      "cell_type": "code",
      "metadata": {
        "id": "uizVCMIP7rDU",
        "cellView": "both"
      },
      "source": [
        "default_response = \"Tell me more\" ## YOUR CODE HERE"
      ],
      "execution_count": null,
      "outputs": []
    },
    {
      "cell_type": "markdown",
      "metadata": {
        "id": "aJISwYkj7s3D"
      },
      "source": [
        "**Question**: Why do we need a default response? What would happen if we didn't have one?"
      ]
    },
    {
      "cell_type": "markdown",
      "metadata": {
        "id": "kfvnHlEg8KwV"
      },
      "source": [
        "### Putting it together\n",
        "\n",
        "**Exercise**: Now, try putting your keyword matching and responses together in a chatbot!"
      ]
    },
    {
      "cell_type": "code",
      "metadata": {
        "id": "-4L6qAIG8ceb",
        "cellView": "both"
      },
      "source": [
        "def chatbot_1(input):\n",
        "  # Convert input to lowercase\n",
        "\n",
        "  input = input.lower()\n",
        "\n",
        "  # Tokenize input and remove punctuation\n",
        "  input_tokens = tokenize(input)\n",
        "\n",
        "  # Respond to hello keyword if present\n",
        "  '''\n",
        "  for keyword in input_tokens:\n",
        "    if keyword in hello_keywords:\n",
        "      return hello_response\n",
        "    elif keyword in goodbye_keywords:\n",
        "      return goodbye_response\n",
        "  return default_response\n",
        "  '''\n",
        "\n",
        "  for word in hello_keywords:\n",
        "    if word in input:\n",
        "      return hello_response\n",
        "  # Respond to goodbye keyword if present\n",
        "  \n",
        "  for word in goodbye_keywords:\n",
        "    if word in input:\n",
        "      return goodbye_response\n",
        "\n",
        "  ## YOUR CODE HERE\n",
        "  \n",
        "  # Else respond with default response\n",
        "  return default_response\n",
        "\n",
        "  ## YOUR CODE HERE"
      ],
      "execution_count": null,
      "outputs": []
    },
    {
      "cell_type": "markdown",
      "metadata": {
        "id": "hK5X-9a4-hwO"
      },
      "source": [
        "Now let's try testing out your basic chatbot!"
      ]
    },
    {
      "cell_type": "code",
      "metadata": {
        "id": "xfy7N2Ve-fok",
        "cellView": "form",
        "colab": {
          "base_uri": "https://localhost:8080/"
        },
        "outputId": "8faba918-c6d5-4f1b-d616-6939f399ee9e"
      },
      "source": [
        "#@title Type something in the box and let's see what your chatbot has to say about it. \n",
        "\n",
        "prompt=\"alksdjf\"#@param {type:\"string\"}\n",
        "\n",
        "response_str=chatbot_1(prompt)\n",
        "print(f\"{name}'s response: {response_str}\")"
      ],
      "execution_count": null,
      "outputs": [
        {
          "output_type": "stream",
          "name": "stdout",
          "text": [
            "Eliza's response: Tell me more\n"
          ]
        }
      ]
    },
    {
      "cell_type": "markdown",
      "metadata": {
        "id": "dI8C1JwNg8Oa"
      },
      "source": [
        "## Writing rules to respond to emotions\n",
        "\n",
        "Let's upgrade our chatbot now! Hellos and goodbyes are great and all but we want to create a chatbot that can assist us with our mental health. At a minimum, our chatbot should have some response to emotion. Let's upgrade our chatbot to ask us how we feel! To do that, you should upgrade your chatbot to do the following:\n",
        "\n",
        "1. Look for keywords that mean \"feel\" (e.g. \"feel\", \"felt\", \"feeling\", etc.) in the input sentence.\n",
        "2. If the sentence contains any of the words above, look for keywords that tell us an emotion (happy, sad, etc.). Try to come up with at least four emotions!\n",
        "3. If there exists an emotion keyword, ask the user to say more about why they feel that way (in true Rogerian psychotherapist tradition).\n",
        "\n",
        "**Exercise**: Upgrade your chatbot to respond to emotions!\n",
        "\n",
        "**Note**: You should start by copying the code you have already written in `chatbot_1` and pasting that below into `chatbot_2`."
      ]
    },
    {
      "cell_type": "code",
      "metadata": {
        "id": "4uhpfPh4kt5n",
        "cellView": "both"
      },
      "source": [
        "feel_keywords = [\"feel\", \"felt\", \"feeling\"]\n",
        "happy_keywords = [\"happy\", \"excited\", \"ecstatic\"]\n",
        "sad_keywords = [\"sad\", \"depressed\", \"dismal\"]\n",
        "\n",
        "happy_response = \"Yay!\"\n",
        "sad_response = \"Why are you upset?\"\n",
        "\n",
        "def chatbot_2(input):\n",
        "  ## BEGIN YOUR CODE HERE\n",
        "  input = input.lower()\n",
        "  input_tokens = tokenize(input)\n",
        "  feel = False\n",
        "  for keyword in input_tokens:\n",
        "    if keyword in feel_keywords:\n",
        "      feel = True\n",
        "  if feel:\n",
        "    for word in happy_keywords:\n",
        "      if word in input:\n",
        "        return happy_response\n",
        "    for word in sad_keywords:\n",
        "      if word in input:\n",
        "        return sad_response\n",
        "    return default_response\n",
        "  else:\n",
        "    return default_response\n",
        "  ## END YOUR CODE HERE"
      ],
      "execution_count": null,
      "outputs": []
    },
    {
      "cell_type": "markdown",
      "metadata": {
        "id": "oCVgAybGgWwW"
      },
      "source": [
        "###Let's try out our program and see how it does!"
      ]
    },
    {
      "cell_type": "code",
      "metadata": {
        "id": "tJXeRL1SgahE",
        "cellView": "form",
        "colab": {
          "base_uri": "https://localhost:8080/"
        },
        "outputId": "2ae7291c-3e08-47ba-bac3-cd3b86f562ea"
      },
      "source": [
        "#@title Type something in the box and let's see what your chatbot has to say about it. \n",
        "\n",
        "prompt=\"I no feel depressed\"#@param {type:\"string\"}\n",
        "\n",
        "response_str=chatbot_2(prompt)\n",
        "print(f\"{name}'s response: {response_str}\")"
      ],
      "execution_count": null,
      "outputs": [
        {
          "output_type": "stream",
          "name": "stdout",
          "text": [
            "Eliza's response: Why are you upset?\n"
          ]
        }
      ]
    },
    {
      "cell_type": "markdown",
      "metadata": {
        "id": "RGIwJ1sjhZRm"
      },
      "source": [
        "###How well did our chatbot do? \n",
        "\n",
        "1. On what kinds of questions did our program do well?\n",
        "\n",
        "2. On what kinds of questions did our program do poorly? Were you able to trick the program into giving a wrong answer?\n",
        "\n",
        "3. Do you think that we could use this type of rule-based chatbot in the real world? Why or why not?"
      ]
    },
    {
      "cell_type": "markdown",
      "metadata": {
        "id": "SOlqUih0jZ1Y"
      },
      "source": [
        "##An even better chatbot!\n",
        "\n",
        "Now, let's make your chatbot even better! It should be able to hold a short conversation while still seeming somewhat natural."
      ]
    },
    {
      "cell_type": "markdown",
      "metadata": {
        "id": "f1xTl55PGQb9"
      },
      "source": [
        "*For this version of the chatbot, instead of telling you what the rules of the chatbot will be, we'll give you a series of conversations and we want you to create a chatbot that will give the responses that we've provided.*"
      ]
    },
    {
      "cell_type": "markdown",
      "metadata": {
        "id": "KwBhP0x7GkEC"
      },
      "source": [
        "User Input | Your chatbot's response\n",
        "--- | ---\n",
        "Hello! | Hello!\n",
        "Greetings! | Hello!\n",
        "Good morning! | Good morning!\n",
        "Good evening! | Good evening!\n",
        "I'm happy to see you. | Why are you feeling happy?\n",
        "I'm feeling sad today. | Why are you feeling sad?\n",
        "What is the meaning of life? | I do not answer questions, sorry. But, why does that matter to you?\n",
        "Is water wet? | I do not answer questions, sorry. But, why does that matter to you?\n",
        "Why do I feel unhappy? | I do not answer questions, sorry. But, why does that matter to you?\n",
        "I think my refrigerator is running. | That is interesting. Please go on. \n",
        "I think my stove ran off with my refrigerator. | That is interesting. Please go on.\n",
        "(No response) | Can you tell me what is going on with you right now?\n",
        "\n"
      ]
    },
    {
      "cell_type": "markdown",
      "metadata": {
        "id": "yDJqMmdMIhjW"
      },
      "source": [
        "Now, it's up to you to create a chatbot that, if given the user inputs in the left column of the table above, returns the responses on the right. There's many ways to create this version of the chatbot, so feel free to have some fun with it! Also, feel free to add features and conversations that aren't in the table above - there's definitely room to experiment here!\n",
        "\n",
        "**Exercise**: Upgrade your chatbot to return the appropriate responses listed above. Have fun with this and try out other responses as well!\n",
        "\n",
        "**Note**: You should start by copying the code you have written in `chatbot_2` and pasting that below into `chatbot_3`."
      ]
    },
    {
      "cell_type": "code",
      "metadata": {
        "id": "Y2sUkzD0lNOu",
        "cellView": "both"
      },
      "source": [
        "def chatbot_3(input):\n",
        "\n",
        "  \"\"\"\n",
        "    Write something HERE in the docstring to tell programmers in the future\n",
        "    about what your chatbot can do. \n",
        "  \"\"\"\n",
        "\n",
        "  ## BEGIN YOUR CODE HERE\n",
        "  pass\n",
        "  ## END YOUR CODE HERE"
      ],
      "execution_count": null,
      "outputs": []
    },
    {
      "cell_type": "code",
      "metadata": {
        "id": "soSajaB1lIqx",
        "cellView": "form"
      },
      "source": [
        "#@title Type something in the box and let's see what your new and improved chatbot has to say about it. \n",
        "\n",
        "prompt=\"Good morning!\"#@param {type:\"string\"}\n",
        "\n",
        "response_str=chatbot_3(prompt)\n",
        "print(f\"{name}'s response: {response_str}\")"
      ],
      "execution_count": null,
      "outputs": []
    },
    {
      "cell_type": "markdown",
      "metadata": {
        "id": "JgHB3dRfMsYR"
      },
      "source": [
        "###Discussion\n",
        "\n",
        "1. How do you think we could make our chatbots more lifelike? Be creative!\n",
        "\n",
        "2. What are the pros and cons of creating a chatbot that just has a bunch of rules? Do you think that a chatbot that has a bunch of rules will be able to mimic how a person thinks and speaks?\n",
        "\n",
        "3. Do you think a chatbot would be able to help people deal with mental health issues? Would you feel comfortable opening up to a chatbot instead of talking to a live therapist?"
      ]
    },
    {
      "cell_type": "markdown",
      "metadata": {
        "id": "gxwu4tbTlcWp"
      },
      "source": [
        "##Conclusion\n",
        "\n",
        "Congrats! Today, you've built a simple version of ELIZA, the world's first chatbot! Hopefully you've learned about how people think about designing rule-based chatbots, especially how hard it is to come up with all the rules that a chatbot needs to have in order for it to sound anything like a human. Think making all those rules is complicated? Me too. Luckily, there's a solution to this problem, and it's called *neural networks* - find out more about it in our next notebook!"
      ]
    }
  ]
}