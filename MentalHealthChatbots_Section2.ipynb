{
  "nbformat": 4,
  "nbformat_minor": 0,
  "metadata": {
    "colab": {
      "provenance": []
    },
    "kernelspec": {
      "name": "python3",
      "display_name": "Python 3"
    },
    "accelerator": "GPU"
  },
  "cells": [
    {
      "cell_type": "markdown",
      "metadata": {
        "id": "c2ar1w-bud2W"
      },
      "source": [
        "#Creating a better, more realistic chatbot using machine learning\n",
        "\n",
        "In our last notebook, we looked at ELIZA, one of the first chatbots ever created, and we designed our own version of ELIZA. \n",
        "\n",
        "As you probably saw, the chatbot that we created was OK, but it definitely wasn't as good as something like Alexa or Siri. What's the next step that we can take to make our chatbot look more like something that we'd see today?\n",
        "\n",
        "In this notebook, we'll explore how to use sequential neural networks for our chatbots, in order to improve their functionality and make them more realistic.\n",
        "\n",
        "Before we start, here are a set of [slides](https://docs.google.com/presentation/d/1ykLNZNkql0SDqqDiNLKJVspUFhVLKB_7x-uB7sSlbNI/edit?usp=sharing) on NLP that might be a useful resource to go over, to make sure that we have some of the prerequisite background knowledge necessary for our project. \n",
        "\n",
        "![link](https://hackernoon.com/hn-images/1*5zQ_G4mZhB-4q-V9PhI0xQ.jpeg)"
      ]
    },
    {
      "cell_type": "markdown",
      "metadata": {
        "id": "T00ekjwglhCg"
      },
      "source": [
        "###Outline\n",
        "\n",
        "This'll be the outline of our notebook for today!\n",
        "\n",
        "1. Exploring our language data\n",
        "2. From language to information: preprocessing methods\n",
        "2. Modeling our data with a sequential neural network (RNN/LSTM)\n",
        "4. Evaluation -- so how's our chatbot looking?\n",
        "5. **Challenge**: Deep dive into the inner workings of the LSTM"
      ]
    },
    {
      "cell_type": "code",
      "metadata": {
        "id": "IjDbmBt0qYF0",
        "cellView": "form",
        "colab": {
          "base_uri": "https://localhost:8080/"
        },
        "outputId": "a143f7b3-87ca-4aed-a3b8-a636585ae18a"
      },
      "source": [
        "#@title Run this code to get started! This'll load some packages and set up some dependencies for us\n",
        "import numpy as np\n",
        "import pandas as pd\n",
        "import matplotlib.pyplot as plt\n",
        "import re\n",
        "import spacy\n",
        "import tensorflow as tf\n",
        "import tensorflow_datasets as tfds\n",
        "from tensorflow.keras import layers , activations , models , preprocessing, utils\n",
        "from keras import Input, Model\n",
        "from keras.activations import softmax\n",
        "from keras.layers import Embedding, LSTM, Dense\n",
        "from tensorflow.keras.optimizers import RMSprop\n",
        "from keras.preprocessing.sequence import pad_sequences\n",
        "from tensorflow.keras.utils import to_categorical\n",
        "from keras_preprocessing.text import Tokenizer\n",
        "tf.random.set_seed(1)\n",
        "from google.colab import drive\n",
        "import time\n",
        "import os\n",
        "import gdown\n",
        "\n",
        "# set pandas viewing options\n",
        "pd.set_option(\"display.max_columns\", None)\n",
        "pd.set_option('display.width', None)\n",
        "pd.set_option(\"max_colwidth\", None)\n",
        "#pd.reset_option(\"max_colwidth\")\n",
        "\n",
        "# the source of our data is: https://github.com/nbertagnolli/counsel-chat\n",
        "\n",
        "# load our weights\n",
        "#gdown.download('https://drive.google.com/uc?export=download&id=1212a1k_GxYbvh-CKF6m9oLwAb_ZBRkZe','chatbot_seq2seq_v3.h5',True);\n",
        "!wget 'https://storage.googleapis.com/inspirit-ai-data-bucket-1/Data/AI%20Scholars/Sessions%206%20-%2010%20(Projects)/Project%20-%20Mental%20Health%20Chatbots/chatbot_seq2seq_v3.h5'\n"
      ],
      "execution_count": null,
      "outputs": [
        {
          "output_type": "stream",
          "name": "stdout",
          "text": [
            "--2022-02-26 04:59:29--  https://storage.googleapis.com/inspirit-ai-data-bucket-1/Data/AI%20Scholars/Sessions%206%20-%2010%20(Projects)/Project%20-%20Mental%20Health%20Chatbots/chatbot_seq2seq_v3.h5\n",
            "Resolving storage.googleapis.com (storage.googleapis.com)... 209.85.147.128, 142.250.125.128, 142.250.136.128, ...\n",
            "Connecting to storage.googleapis.com (storage.googleapis.com)|209.85.147.128|:443... connected.\n",
            "HTTP request sent, awaiting response... 200 OK\n",
            "Length: 44061792 (42M) [application/octet-stream]\n",
            "Saving to: ‘chatbot_seq2seq_v3.h5.1’\n",
            "\n",
            "\rchatbot_seq2seq_v3.   0%[                    ]       0  --.-KB/s               \rchatbot_seq2seq_v3. 100%[===================>]  42.02M   224MB/s    in 0.2s    \n",
            "\n",
            "2022-02-26 04:59:29 (224 MB/s) - ‘chatbot_seq2seq_v3.h5.1’ saved [44061792/44061792]\n",
            "\n"
          ]
        }
      ]
    },
    {
      "cell_type": "markdown",
      "metadata": {
        "id": "IXyczgPYqo5K"
      },
      "source": [
        "## Preparing our dataset"
      ]
    },
    {
      "cell_type": "markdown",
      "metadata": {
        "id": "LKWuQtadRh9j"
      },
      "source": [
        "We are going to be working with data from CounselChat (https://counselchat.com/), which is an online resource where people can ask questions and get answers from licensed mental health counselors. We are going to take a look at some of the questions that people asked on this site, see what the counselors responded with, and create a chatbot that'll try to do the same thing.\n",
        "\n",
        "[**TW:** suicidal ideation] \n",
        "\n",
        "**Disclaimer**: This dataset was made freely available and all data was provided consensually, and in anonymized form. When working with sensitive data such as medical data, you should *always* get permission first!\n"
      ]
    },
    {
      "cell_type": "code",
      "metadata": {
        "id": "JCXZR79CSmrb",
        "cellView": "form"
      },
      "source": [
        "#@title Run this cell to download our dataset\n",
        "chat_data = pd.read_csv(\"https://raw.githubusercontent.com/nbertagnolli/counsel-chat/master/data/20200325_counsel_chat.csv\")\n"
      ],
      "execution_count": null,
      "outputs": []
    },
    {
      "cell_type": "markdown",
      "metadata": {
        "id": "0cyiR_psR7l2"
      },
      "source": [
        "###Exploring our data"
      ]
    },
    {
      "cell_type": "markdown",
      "metadata": {
        "id": "a4RZK8PrR9cV"
      },
      "source": [
        "We should begin by getting a sense of what data we are working with. Our data is in a pandas dataframe named `chat_data`.\n",
        "\n",
        "**Exercise**: Print out the first 5 rows in the dataset."
      ]
    },
    {
      "cell_type": "code",
      "metadata": {
        "id": "W8Nv3ehoyuVE",
        "colab": {
          "base_uri": "https://localhost:8080/",
          "height": 1000
        },
        "outputId": "3f45a2d8-cb46-4fc9-ebd5-a369830cd4d4"
      },
      "source": [
        "## YOUR CODE HERE\n",
        "chat_data.head()"
      ],
      "execution_count": null,
      "outputs": [
        {
          "output_type": "execute_result",
          "data": {
            "text/html": [
              "\n",
              "  <div id=\"df-a638fb44-987e-4930-8cc1-cc365ca8c5ed\">\n",
              "    <div class=\"colab-df-container\">\n",
              "      <div>\n",
              "<style scoped>\n",
              "    .dataframe tbody tr th:only-of-type {\n",
              "        vertical-align: middle;\n",
              "    }\n",
              "\n",
              "    .dataframe tbody tr th {\n",
              "        vertical-align: top;\n",
              "    }\n",
              "\n",
              "    .dataframe thead th {\n",
              "        text-align: right;\n",
              "    }\n",
              "</style>\n",
              "<table border=\"1\" class=\"dataframe\">\n",
              "  <thead>\n",
              "    <tr style=\"text-align: right;\">\n",
              "      <th></th>\n",
              "      <th>Unnamed: 0</th>\n",
              "      <th>questionID</th>\n",
              "      <th>questionTitle</th>\n",
              "      <th>questionText</th>\n",
              "      <th>questionLink</th>\n",
              "      <th>topic</th>\n",
              "      <th>therapistInfo</th>\n",
              "      <th>therapistURL</th>\n",
              "      <th>answerText</th>\n",
              "      <th>upvotes</th>\n",
              "      <th>views</th>\n",
              "      <th>split</th>\n",
              "    </tr>\n",
              "  </thead>\n",
              "  <tbody>\n",
              "    <tr>\n",
              "      <th>0</th>\n",
              "      <td>0</td>\n",
              "      <td>0</td>\n",
              "      <td>Can I change my feeling of being worthless to everyone?</td>\n",
              "      <td>I'm going through some things with my feelings and myself. I barely sleep and I do nothing but think about how I'm worthless and how I shouldn't be here.\\n   I've never tried or contemplated suicide. I've always wanted to fix my issues, but I never get around to it.\\n   How can I change my feeling of being worthless to everyone?</td>\n",
              "      <td>https://counselchat.com/questions/can-i-change-my-feeling-of-being-worthless-to-everyone</td>\n",
              "      <td>depression</td>\n",
              "      <td>Sherry Katz, LCSWCouples and Family Therapist, LCSW</td>\n",
              "      <td>https://counselchat.com/therapists/sherry-katz-lcsw</td>\n",
              "      <td>If everyone thinks you're worthless, then maybe you need to find new people to hang out with.Seriously, the social context in which a person lives is a big influence in self-esteem.Otherwise, you can go round and round trying to understand why you're not worthless, then go back to the same crowd and be knocked down again.There are many inspirational messages you can find in social media.  Maybe read some of the ones which state that no person is worthless, and that everyone has a good purpose to their life.Also, since our culture is so saturated with the belief that if someone doesn't feel good about themselves that this is somehow terrible.Bad feelings are part of living.  They are the motivation to remove ourselves from situations and relationships which do us more harm than good.Bad feelings do feel terrible.   Your feeling of worthlessness may be good in the sense of motivating you to find out that you are much better than your feelings today.</td>\n",
              "      <td>1</td>\n",
              "      <td>2899</td>\n",
              "      <td>train</td>\n",
              "    </tr>\n",
              "    <tr>\n",
              "      <th>1</th>\n",
              "      <td>1</td>\n",
              "      <td>0</td>\n",
              "      <td>Can I change my feeling of being worthless to everyone?</td>\n",
              "      <td>I'm going through some things with my feelings and myself. I barely sleep and I do nothing but think about how I'm worthless and how I shouldn't be here.\\n   I've never tried or contemplated suicide. I've always wanted to fix my issues, but I never get around to it.\\n   How can I change my feeling of being worthless to everyone?</td>\n",
              "      <td>https://counselchat.com/questions/can-i-change-my-feeling-of-being-worthless-to-everyone</td>\n",
              "      <td>depression</td>\n",
              "      <td>Robin Landwehr, DBH, LPCC, NCCMental Health in a Primary Care Setting</td>\n",
              "      <td>https://counselchat.com/therapists/robin-landwehr-dbh-lpcc-ncc</td>\n",
              "      <td>Hello, and thank you for your question and seeking advice on this. Feelings of worthlessness is unfortunately common. In fact, most people, if not all, have felt this to some degree at some point in their life. You are not alone. Changing our feelings is like changing our thoughts - it's hard to do. Our minds are so amazing that the minute you change your thought another one can be right there to take it's place. Without your permission, another thought can just pop in there. The new thought may feel worse than the last one! My guess is that you have tried several things to improve this on your own even before reaching out on here. People often try thinking positive thoughts, debating with their thoughts, or simply telling themselves that they need to \"snap out of it\" - which is also a thought that carries some self-criticism. Some people try a different approach, and there are counselors out there that can help you with this. The idea is that instead of trying to change the thoughts, you change how you respond to them. You learn skills that allow you to manage difficult thoughts and feelings differently so they don't have the same impact on you that they do right now. For some people, they actually DO begin to experience less hurtful thoughts once they learn how to manage the ones they have differently. Acceptance and Commitment Therapy may be a good choice for you. There is information online and even self-help books that you can use to teach you the skills that I mentioned. Because they are skills, they require practice, but many people have found great relief and an enriched life by learning them. As for suicidal thoughts, I am very glad to read that this has not happened to you. Still, you should watch out for this because it can be a sign of a worsening depression. If you begin to think about this, it is important to reach out to a support system right away. The National Suicide Prevention Lifeline is 1-800-273-8255. The text line is #741741. I hope some other colleagues will provide you more suggestions. Be well...Robin Landwehr, DBH, LPCC</td>\n",
              "      <td>1</td>\n",
              "      <td>3514</td>\n",
              "      <td>train</td>\n",
              "    </tr>\n",
              "    <tr>\n",
              "      <th>2</th>\n",
              "      <td>2</td>\n",
              "      <td>0</td>\n",
              "      <td>Can I change my feeling of being worthless to everyone?</td>\n",
              "      <td>I'm going through some things with my feelings and myself. I barely sleep and I do nothing but think about how I'm worthless and how I shouldn't be here.\\n   I've never tried or contemplated suicide. I've always wanted to fix my issues, but I never get around to it.\\n   How can I change my feeling of being worthless to everyone?</td>\n",
              "      <td>https://counselchat.com/questions/can-i-change-my-feeling-of-being-worthless-to-everyone</td>\n",
              "      <td>depression</td>\n",
              "      <td>Lee KingI use an integrative approach to treatment and have an online therapy practice.</td>\n",
              "      <td>https://counselchat.com/therapists/lee-king</td>\n",
              "      <td>First thing I'd suggest is getting the sleep you need or it will impact how you think and feel. I'd look at finding what is going well in your life and what you can be grateful for. I believe everyone has talents and wants to find their purpose in life. I think you can figure it out with some help.</td>\n",
              "      <td>0</td>\n",
              "      <td>5</td>\n",
              "      <td>train</td>\n",
              "    </tr>\n",
              "    <tr>\n",
              "      <th>3</th>\n",
              "      <td>3</td>\n",
              "      <td>0</td>\n",
              "      <td>Can I change my feeling of being worthless to everyone?</td>\n",
              "      <td>I'm going through some things with my feelings and myself. I barely sleep and I do nothing but think about how I'm worthless and how I shouldn't be here.\\n   I've never tried or contemplated suicide. I've always wanted to fix my issues, but I never get around to it.\\n   How can I change my feeling of being worthless to everyone?</td>\n",
              "      <td>https://counselchat.com/questions/can-i-change-my-feeling-of-being-worthless-to-everyone</td>\n",
              "      <td>depression</td>\n",
              "      <td>Shauntai Davis-YearginPersonalized, private online counseling for individuals and couples</td>\n",
              "      <td>https://counselchat.com/therapists/shauntai-davis-yeargin</td>\n",
              "      <td>Therapy is essential for those that are feeling depressed and worthless. When I work with those that are experiencing concerns related to feeling of depression and issues with self esteem. I generally work with my client to help build coping skills to reduce level of depression and to assist with strengthening  self esteem, by guiding my client with CBT practices. CBT helps with gaining a better awareness of how your thought process influences your belief system, and how your beliefs impact your actions and the outcome of your behaviors.  This process isn’t easy but it helps teach an individual that we don’t always have control over what happens in our lives but we can control how we interpret, feel, and behave. CBT is good for individuals dealing with depression, anxiety, toxic relationships, stress, self esteem, codependency, etc.</td>\n",
              "      <td>0</td>\n",
              "      <td>31</td>\n",
              "      <td>train</td>\n",
              "    </tr>\n",
              "    <tr>\n",
              "      <th>4</th>\n",
              "      <td>4</td>\n",
              "      <td>0</td>\n",
              "      <td>Can I change my feeling of being worthless to everyone?</td>\n",
              "      <td>I'm going through some things with my feelings and myself. I barely sleep and I do nothing but think about how I'm worthless and how I shouldn't be here.\\n   I've never tried or contemplated suicide. I've always wanted to fix my issues, but I never get around to it.\\n   How can I change my feeling of being worthless to everyone?</td>\n",
              "      <td>https://counselchat.com/questions/can-i-change-my-feeling-of-being-worthless-to-everyone</td>\n",
              "      <td>depression</td>\n",
              "      <td>Jordan WhiteLicensed Social Worker at Oak Roots Dynamic</td>\n",
              "      <td>https://counselchat.com/therapists/jordan-white</td>\n",
              "      <td>I first want to let you know that you are not alone in your feelings and there is always someone there to help. You can always change your feelings and change your way of thinking by being open to trying to change. You can always make yourself available to learning new things or volunteering so that you can make a purpose for yourself.</td>\n",
              "      <td>0</td>\n",
              "      <td>620</td>\n",
              "      <td>train</td>\n",
              "    </tr>\n",
              "  </tbody>\n",
              "</table>\n",
              "</div>\n",
              "      <button class=\"colab-df-convert\" onclick=\"convertToInteractive('df-a638fb44-987e-4930-8cc1-cc365ca8c5ed')\"\n",
              "              title=\"Convert this dataframe to an interactive table.\"\n",
              "              style=\"display:none;\">\n",
              "        \n",
              "  <svg xmlns=\"http://www.w3.org/2000/svg\" height=\"24px\"viewBox=\"0 0 24 24\"\n",
              "       width=\"24px\">\n",
              "    <path d=\"M0 0h24v24H0V0z\" fill=\"none\"/>\n",
              "    <path d=\"M18.56 5.44l.94 2.06.94-2.06 2.06-.94-2.06-.94-.94-2.06-.94 2.06-2.06.94zm-11 1L8.5 8.5l.94-2.06 2.06-.94-2.06-.94L8.5 2.5l-.94 2.06-2.06.94zm10 10l.94 2.06.94-2.06 2.06-.94-2.06-.94-.94-2.06-.94 2.06-2.06.94z\"/><path d=\"M17.41 7.96l-1.37-1.37c-.4-.4-.92-.59-1.43-.59-.52 0-1.04.2-1.43.59L10.3 9.45l-7.72 7.72c-.78.78-.78 2.05 0 2.83L4 21.41c.39.39.9.59 1.41.59.51 0 1.02-.2 1.41-.59l7.78-7.78 2.81-2.81c.8-.78.8-2.07 0-2.86zM5.41 20L4 18.59l7.72-7.72 1.47 1.35L5.41 20z\"/>\n",
              "  </svg>\n",
              "      </button>\n",
              "      \n",
              "  <style>\n",
              "    .colab-df-container {\n",
              "      display:flex;\n",
              "      flex-wrap:wrap;\n",
              "      gap: 12px;\n",
              "    }\n",
              "\n",
              "    .colab-df-convert {\n",
              "      background-color: #E8F0FE;\n",
              "      border: none;\n",
              "      border-radius: 50%;\n",
              "      cursor: pointer;\n",
              "      display: none;\n",
              "      fill: #1967D2;\n",
              "      height: 32px;\n",
              "      padding: 0 0 0 0;\n",
              "      width: 32px;\n",
              "    }\n",
              "\n",
              "    .colab-df-convert:hover {\n",
              "      background-color: #E2EBFA;\n",
              "      box-shadow: 0px 1px 2px rgba(60, 64, 67, 0.3), 0px 1px 3px 1px rgba(60, 64, 67, 0.15);\n",
              "      fill: #174EA6;\n",
              "    }\n",
              "\n",
              "    [theme=dark] .colab-df-convert {\n",
              "      background-color: #3B4455;\n",
              "      fill: #D2E3FC;\n",
              "    }\n",
              "\n",
              "    [theme=dark] .colab-df-convert:hover {\n",
              "      background-color: #434B5C;\n",
              "      box-shadow: 0px 1px 3px 1px rgba(0, 0, 0, 0.15);\n",
              "      filter: drop-shadow(0px 1px 2px rgba(0, 0, 0, 0.3));\n",
              "      fill: #FFFFFF;\n",
              "    }\n",
              "  </style>\n",
              "\n",
              "      <script>\n",
              "        const buttonEl =\n",
              "          document.querySelector('#df-a638fb44-987e-4930-8cc1-cc365ca8c5ed button.colab-df-convert');\n",
              "        buttonEl.style.display =\n",
              "          google.colab.kernel.accessAllowed ? 'block' : 'none';\n",
              "\n",
              "        async function convertToInteractive(key) {\n",
              "          const element = document.querySelector('#df-a638fb44-987e-4930-8cc1-cc365ca8c5ed');\n",
              "          const dataTable =\n",
              "            await google.colab.kernel.invokeFunction('convertToInteractive',\n",
              "                                                     [key], {});\n",
              "          if (!dataTable) return;\n",
              "\n",
              "          const docLinkHtml = 'Like what you see? Visit the ' +\n",
              "            '<a target=\"_blank\" href=https://colab.research.google.com/notebooks/data_table.ipynb>data table notebook</a>'\n",
              "            + ' to learn more about interactive tables.';\n",
              "          element.innerHTML = '';\n",
              "          dataTable['output_type'] = 'display_data';\n",
              "          await google.colab.output.renderOutput(dataTable, element);\n",
              "          const docLink = document.createElement('div');\n",
              "          docLink.innerHTML = docLinkHtml;\n",
              "          element.appendChild(docLink);\n",
              "        }\n",
              "      </script>\n",
              "    </div>\n",
              "  </div>\n",
              "  "
            ],
            "text/plain": [
              "   Unnamed: 0  questionID  \\\n",
              "0           0           0   \n",
              "1           1           0   \n",
              "2           2           0   \n",
              "3           3           0   \n",
              "4           4           0   \n",
              "\n",
              "                                             questionTitle  \\\n",
              "0  Can I change my feeling of being worthless to everyone?   \n",
              "1  Can I change my feeling of being worthless to everyone?   \n",
              "2  Can I change my feeling of being worthless to everyone?   \n",
              "3  Can I change my feeling of being worthless to everyone?   \n",
              "4  Can I change my feeling of being worthless to everyone?   \n",
              "\n",
              "                                                                                                                                                                                                                                                                                                                                 questionText  \\\n",
              "0  I'm going through some things with my feelings and myself. I barely sleep and I do nothing but think about how I'm worthless and how I shouldn't be here.\\n   I've never tried or contemplated suicide. I've always wanted to fix my issues, but I never get around to it.\\n   How can I change my feeling of being worthless to everyone?   \n",
              "1  I'm going through some things with my feelings and myself. I barely sleep and I do nothing but think about how I'm worthless and how I shouldn't be here.\\n   I've never tried or contemplated suicide. I've always wanted to fix my issues, but I never get around to it.\\n   How can I change my feeling of being worthless to everyone?   \n",
              "2  I'm going through some things with my feelings and myself. I barely sleep and I do nothing but think about how I'm worthless and how I shouldn't be here.\\n   I've never tried or contemplated suicide. I've always wanted to fix my issues, but I never get around to it.\\n   How can I change my feeling of being worthless to everyone?   \n",
              "3  I'm going through some things with my feelings and myself. I barely sleep and I do nothing but think about how I'm worthless and how I shouldn't be here.\\n   I've never tried or contemplated suicide. I've always wanted to fix my issues, but I never get around to it.\\n   How can I change my feeling of being worthless to everyone?   \n",
              "4  I'm going through some things with my feelings and myself. I barely sleep and I do nothing but think about how I'm worthless and how I shouldn't be here.\\n   I've never tried or contemplated suicide. I've always wanted to fix my issues, but I never get around to it.\\n   How can I change my feeling of being worthless to everyone?   \n",
              "\n",
              "                                                                               questionLink  \\\n",
              "0  https://counselchat.com/questions/can-i-change-my-feeling-of-being-worthless-to-everyone   \n",
              "1  https://counselchat.com/questions/can-i-change-my-feeling-of-being-worthless-to-everyone   \n",
              "2  https://counselchat.com/questions/can-i-change-my-feeling-of-being-worthless-to-everyone   \n",
              "3  https://counselchat.com/questions/can-i-change-my-feeling-of-being-worthless-to-everyone   \n",
              "4  https://counselchat.com/questions/can-i-change-my-feeling-of-being-worthless-to-everyone   \n",
              "\n",
              "        topic  \\\n",
              "0  depression   \n",
              "1  depression   \n",
              "2  depression   \n",
              "3  depression   \n",
              "4  depression   \n",
              "\n",
              "                                                                               therapistInfo  \\\n",
              "0                                        Sherry Katz, LCSWCouples and Family Therapist, LCSW   \n",
              "1                      Robin Landwehr, DBH, LPCC, NCCMental Health in a Primary Care Setting   \n",
              "2    Lee KingI use an integrative approach to treatment and have an online therapy practice.   \n",
              "3  Shauntai Davis-YearginPersonalized, private online counseling for individuals and couples   \n",
              "4                                    Jordan WhiteLicensed Social Worker at Oak Roots Dynamic   \n",
              "\n",
              "                                                     therapistURL  \\\n",
              "0             https://counselchat.com/therapists/sherry-katz-lcsw   \n",
              "1  https://counselchat.com/therapists/robin-landwehr-dbh-lpcc-ncc   \n",
              "2                     https://counselchat.com/therapists/lee-king   \n",
              "3       https://counselchat.com/therapists/shauntai-davis-yeargin   \n",
              "4                 https://counselchat.com/therapists/jordan-white   \n",
              "\n",
              "                                                                                                                                                                                                                                                                                                                                                                                                                                                                                                                                                                                                                                                                                                                                                                                                                                                                                                                                                                                                                                                                                                                                                                                                                                                                                                                                                                                                                                                                                                                                                                                                                                                                                                                                                                                                                                                                                                                                                                                                                                                                                                                                                           answerText  \\\n",
              "0                                                                                                                                                                                                                                                                                                                                                                                                                                                                                                                                                                                                                                                                                                                                                                                                                                                                                                                                                                                                                                                                                                                                                                   If everyone thinks you're worthless, then maybe you need to find new people to hang out with.Seriously, the social context in which a person lives is a big influence in self-esteem.Otherwise, you can go round and round trying to understand why you're not worthless, then go back to the same crowd and be knocked down again.There are many inspirational messages you can find in social media.  Maybe read some of the ones which state that no person is worthless, and that everyone has a good purpose to their life.Also, since our culture is so saturated with the belief that if someone doesn't feel good about themselves that this is somehow terrible.Bad feelings are part of living.  They are the motivation to remove ourselves from situations and relationships which do us more harm than good.Bad feelings do feel terrible.   Your feeling of worthlessness may be good in the sense of motivating you to find out that you are much better than your feelings today.   \n",
              "1  Hello, and thank you for your question and seeking advice on this. Feelings of worthlessness is unfortunately common. In fact, most people, if not all, have felt this to some degree at some point in their life. You are not alone. Changing our feelings is like changing our thoughts - it's hard to do. Our minds are so amazing that the minute you change your thought another one can be right there to take it's place. Without your permission, another thought can just pop in there. The new thought may feel worse than the last one! My guess is that you have tried several things to improve this on your own even before reaching out on here. People often try thinking positive thoughts, debating with their thoughts, or simply telling themselves that they need to \"snap out of it\" - which is also a thought that carries some self-criticism. Some people try a different approach, and there are counselors out there that can help you with this. The idea is that instead of trying to change the thoughts, you change how you respond to them. You learn skills that allow you to manage difficult thoughts and feelings differently so they don't have the same impact on you that they do right now. For some people, they actually DO begin to experience less hurtful thoughts once they learn how to manage the ones they have differently. Acceptance and Commitment Therapy may be a good choice for you. There is information online and even self-help books that you can use to teach you the skills that I mentioned. Because they are skills, they require practice, but many people have found great relief and an enriched life by learning them. As for suicidal thoughts, I am very glad to read that this has not happened to you. Still, you should watch out for this because it can be a sign of a worsening depression. If you begin to think about this, it is important to reach out to a support system right away. The National Suicide Prevention Lifeline is 1-800-273-8255. The text line is #741741. I hope some other colleagues will provide you more suggestions. Be well...Robin Landwehr, DBH, LPCC   \n",
              "2                                                                                                                                                                                                                                                                                                                                                                                                                                                                                                                                                                                                                                                                                                                                                                                                                                                                                                                                                                                                                                                                                                                                                                                                                                                                                                                                                                                                                                                                                                                                                                                                                                                                                                                                                                                                                                                         First thing I'd suggest is getting the sleep you need or it will impact how you think and feel. I'd look at finding what is going well in your life and what you can be grateful for. I believe everyone has talents and wants to find their purpose in life. I think you can figure it out with some help.   \n",
              "3                                                                                                                                                                                                                                                                                                                                                                                                                                                                                                                                                                                                                                                                                                                                                                                                                                                                                                                                                                                                                                                                                                                                                                                                                                                                                        Therapy is essential for those that are feeling depressed and worthless. When I work with those that are experiencing concerns related to feeling of depression and issues with self esteem. I generally work with my client to help build coping skills to reduce level of depression and to assist with strengthening  self esteem, by guiding my client with CBT practices. CBT helps with gaining a better awareness of how your thought process influences your belief system, and how your beliefs impact your actions and the outcome of your behaviors.  This process isn’t easy but it helps teach an individual that we don’t always have control over what happens in our lives but we can control how we interpret, feel, and behave. CBT is good for individuals dealing with depression, anxiety, toxic relationships, stress, self esteem, codependency, etc.   \n",
              "4                                                                                                                                                                                                                                                                                                                                                                                                                                                                                                                                                                                                                                                                                                                                                                                                                                                                                                                                                                                                                                                                                                                                                                                                                                                                                                                                                                                                                                                                                                                                                                                                                                                                                                                                                                                                                   I first want to let you know that you are not alone in your feelings and there is always someone there to help. You can always change your feelings and change your way of thinking by being open to trying to change. You can always make yourself available to learning new things or volunteering so that you can make a purpose for yourself.   \n",
              "\n",
              "   upvotes  views  split  \n",
              "0        1   2899  train  \n",
              "1        1   3514  train  \n",
              "2        0      5  train  \n",
              "3        0     31  train  \n",
              "4        0    620  train  "
            ]
          },
          "metadata": {},
          "execution_count": 14
        }
      ]
    },
    {
      "cell_type": "markdown",
      "metadata": {
        "id": "2EMPW6UQzLTa"
      },
      "source": [
        "**Question**: Which columns correspond to the question that the person asked? Which columns correspond to the answer that the mental health counselor gave?"
      ]
    },
    {
      "cell_type": "markdown",
      "metadata": {
        "id": "1adKDOeMz3Iu"
      },
      "source": [
        "Now, let's see how many questions and answers there are in each topic!"
      ]
    },
    {
      "cell_type": "code",
      "metadata": {
        "id": "IImBBdYu0Qz3",
        "colab": {
          "base_uri": "https://localhost:8080/",
          "height": 398
        },
        "cellView": "form",
        "outputId": "a7458914-32eb-4ae4-9627-a80477ee49d3"
      },
      "source": [
        "#@title Run this cell to plot the number of questions and answers for each topic\n",
        "\n",
        "chat_data[\"topic\"].value_counts().plot.bar()\n",
        "plt.title(\"Number of questions and answers for each topic\")\n",
        "plt.show()"
      ],
      "execution_count": null,
      "outputs": [
        {
          "output_type": "display_data",
          "data": {
            "image/png": "[encoded data removed]",
            "text/plain": [
              "<Figure size 432x288 with 1 Axes>"
            ]
          },
          "metadata": {
            "needs_background": "light"
          }
        }
      ]
    },
    {
      "cell_type": "markdown",
      "metadata": {
        "id": "Ehqy_t5BUWqQ"
      },
      "source": [
        "**Question**: Which topics are most popular? Which topics are least popular? Why do you think that is?\n",
        "\n",
        "**Question**: Why might there be bias towards / against certain topics in this dataset?\n",
        "\n",
        "**Note**: As usual, remember to be kind and empathetic toward your fellow classmates! This may be a personal topic for some."
      ]
    },
    {
      "cell_type": "markdown",
      "metadata": {
        "id": "6a9k7TT91JIc"
      },
      "source": [
        "We want to train our chatbot to respond to users' questions with answers, in a similar fashion to how mental health counselors respond to people's questions on CounselChat. First, let's extract just the data we need for our model.\n",
        "\n",
        "**Exercise**: What should the `X` be for our model? What should the `y` be? Fill in the code below with the necessary columns of our dataset."
      ]
    },
    {
      "cell_type": "code",
      "metadata": {
        "id": "YOZZhVB91at0"
      },
      "source": [
        "# YOUR CODE HERE:\n",
        "X = chat_data[\"questionTitle\"] # TODO: replace None with the columns we should assign to X\n",
        "y = chat_data[\"answerText\"] # TODO: replace None with the columns we should assign to Y"
      ],
      "execution_count": null,
      "outputs": []
    },
    {
      "cell_type": "markdown",
      "metadata": {
        "id": "AEmfpNtfiA-e"
      },
      "source": [
        "###Cleaning our data\n",
        "\n",
        "We have our data now! But as you've probably noticed we have *language* data. A computer doesn't understand what language data means; to a computer, a word is just a bunch of letters. We need to figure out a representation for our language data such that our computer can understand it.\n",
        "\n",
        "**Question**: How can we transform our language data into something that our machine learning algorithm can work with?\n",
        "\n",
        "This question is the core of **natural language processing** (NLP)!\n",
        "\n",
        "As a first step, we need to clean our data and get rid of some stuff that we don't want to see. We'll use **regular expressions** to do this. Regular expressions are a powerful tool that perform *pattern matching*, allowing us to search a piece of text for patterns and replace all occurrences of a pattern with something else.\n",
        "\n",
        "For example, suppose we want to remove all occurrences of the letter \"X\" from a block of text (for whatever reason). This is the same as replacing the letter \"X\" with the empty string \"\". We can use the function `re.sub` to do this in Python:\n",
        "\n",
        "```\n",
        "text = re.sub(r\"X\", \"\", text)\n",
        "```\n",
        "\n",
        "**Question**: What are the arguments that we need to pass in to `re.sub`?\n",
        "\n",
        "**Exercise**: Use the function `re.sub` to get rid of all occurrences of \"\\n\" and all occurrences of \"\\xa0\" from our data. For context, these are both forms of whitespace which clog up our data unnecessarily.\n",
        "\n",
        "\n"
      ]
    },
    {
      "cell_type": "code",
      "metadata": {
        "id": "3PFqVK23i1c5"
      },
      "source": [
        "def preprocess_text(phrase): \n",
        "  phrase = re.sub(r\"\\xa0\", \"\", phrase) # YOUR CODE HERE: get rid of \"\\xa0\"\n",
        "  phrase = re.sub(r\"\\n\", \"\", phrase) # YOUR CODE HERE: get rid of \"\\n\"\n",
        "  phrase = re.sub(\"[.]{1,}\", \".\", phrase) # removes duplicate \".\"s\n",
        "  phrase = re.sub(\"[ ]{1,}\", \" \", phrase) # removes duplicate spaces\n",
        "\n",
        "  return phrase"
      ],
      "execution_count": null,
      "outputs": []
    },
    {
      "cell_type": "markdown",
      "metadata": {
        "id": "VRoJVlLg8Luo"
      },
      "source": [
        "Now, run this next code cell to use your function to clean up our text!"
      ]
    },
    {
      "cell_type": "code",
      "metadata": {
        "id": "iI2C3NXjf-Fu",
        "cellView": "both"
      },
      "source": [
        "X = X.apply(preprocess_text)\n",
        "y = y.apply(preprocess_text)"
      ],
      "execution_count": null,
      "outputs": []
    },
    {
      "cell_type": "markdown",
      "metadata": {
        "id": "-1Ax45xRlz0z"
      },
      "source": [
        "Now that we've cleaned up our text, let's see how many sentences long each person's question is and how many sentences long each therapist's response is."
      ]
    },
    {
      "cell_type": "code",
      "metadata": {
        "id": "1sUmCYSzl6cs",
        "cellView": "form",
        "colab": {
          "base_uri": "https://localhost:8080/",
          "height": 281
        },
        "outputId": "fbf7a0b8-8b81-4fbc-ccbb-cbf2c44168bc"
      },
      "source": [
        "#@title Run this cell to plot the lengths of questions and answers, in sentences\n",
        "question_lengths, answer_lengths = [], []\n",
        "\n",
        "for (question, answer) in zip(X, y): \n",
        "  # split by \".\"\n",
        "  question_arr = question.split(\".\")\n",
        "  answer_arr = answer.split(\".\")\n",
        "\n",
        "  # get length\n",
        "  length_question = len(question_arr)\n",
        "  length_answer = len(answer_arr)\n",
        "\n",
        "  # add to array\n",
        "  question_lengths.append(length_question)\n",
        "  answer_lengths.append(length_answer)\n",
        "\n",
        "# Display the plot\n",
        "plt.hist(question_lengths, color = \"red\", alpha = 0.5)\n",
        "plt.hist(answer_lengths, color = \"blue\", alpha = 0.2)\n",
        "plt.title(\"Lengths of questions (in red) and answers (in blue)\")\n",
        "plt.axvline(np.mean(question_lengths), color = \"red\")\n",
        "plt.axvline(np.mean(answer_lengths), color = \"blue\")\n",
        "plt.show()"
      ],
      "execution_count": null,
      "outputs": [
        {
          "output_type": "display_data",
          "data": {
            "image/png": "[encoded data removed]",
            "text/plain": [
              "<Figure size 432x288 with 1 Axes>"
            ]
          },
          "metadata": {
            "needs_background": "light"
          }
        }
      ]
    },
    {
      "cell_type": "markdown",
      "metadata": {
        "id": "RPg6FIhymTr8"
      },
      "source": [
        "####Discussion\n",
        "\n",
        "1. In the plot above, what do the red bars indicate? What do the blue bars indicate?\n",
        "2. The vertical lines in the plot above indicate average lengths. What is the average length of a question? What is the average length of an answer?\n",
        "3. Do people's questions or therapists' responses tend to be longer? Why might this be the case? How do you think this might affect our chatbot?"
      ]
    },
    {
      "cell_type": "markdown",
      "metadata": {
        "id": "shuCs-fZmfRa"
      },
      "source": [
        "### Splitting up our questions and answers\n",
        "\n",
        "There's a little more preprocessing we need to do however! We want to keep our phrases relatively short; however, some of the questions and answers in our dataset are several sentences long.\n",
        "\n",
        "To solve this problem, we'll split up each question and each answer into their constituent sentences. We'll then pair the first sentence of the question with the first sentence of the answer, the second sentence of the question with the second sentence of the answer, and so on until we can't form any more pairs.\n",
        "\n",
        "For example, suppose we have the following question-answer pair:\n",
        "> **Q**: \"I am not feeling well today. I feel sad.\"\n",
        "\n",
        "> **A**: \"Tell me more about how you feel. What have you been up to today?\"\n",
        "\n",
        "First, we would split up the question into its constituent sentences, resulting in `[\"I am not feeling well today.\", \"I feel sad.\"]`. Similarly, we would split up the answer into its constituent sentences, resulting in `[\"Tell me more about how you feel.\", \"What have you been up to today?\"]`. Finally, we would pair each sentence of the question with its corresponding sentence of the answer, ultimately resulting in two separate question-answer pairs:\n",
        "> **Q**: \"I am not feeling well today.\"\n",
        "\n",
        "> **A**: \"Tell me more about how you feel.\"\n",
        "\n",
        "and\n",
        "\n",
        "> **Q**: \"I feel sad.\"\n",
        "\n",
        "> **A**: \"What have you been up to today?\"\n",
        "\n",
        "**Exercise**: Fill in the missing code blocks in the following cell to loop through each question and answer pair, split up each question and answer into their constituent sentences, and pair up each sentence of the question with its corresponding sentence of the answer.\n",
        "\n",
        "**Hint**: To split text, check out the `split` function.\n",
        "\n",
        "\n",
        "\n"
      ]
    },
    {
      "cell_type": "code",
      "metadata": {
        "id": "FH29Np0Kd81n",
        "colab": {
          "base_uri": "https://localhost:8080/",
          "height": 133
        },
        "outputId": "64b62412-b939-45e8-91bb-8ebb9c4cdd66"
      },
      "source": [
        "question_answer_pairs = []\n",
        "\n",
        "MAX_LENGTH = 100 # the maximum length for our sequences\n",
        "\n",
        "for (question, answer) in zip(X, y):\n",
        "  question = preprocess_text(question) \n",
        "  answer = preprocess_text(answer)\n",
        "\n",
        "  # split up question and answer into their constituent sentences\n",
        "\n",
        "  question_arr = question.split(\".\") ## YOUR CODE HERE\n",
        "  answer_arr = answer.split(\".\") ## YOUR CODE HERE\n",
        "\n",
        "  # get the maximum number of question/answer pairs we can form,\n",
        "  # which will be the shorter of len(question_arr) and len(answer_arr)\n",
        "\n",
        "  max_sentences = min(len(question_arr)), len(answer_arr)) ## YOUR CODE HERE\n",
        "\n",
        "  for i in range(max_sentences):\n",
        "    q_a_pair = []\n",
        "\n",
        "    # get maximum sentence length\n",
        "    max_q_length = min(MAX_LENGTH, len(question_arr[i]))\n",
        "    max_a_length = min(MAX_LENGTH, len(answer_arr[i]))\n",
        "\n",
        "    # append question, answer to pair (e.g,. first sentence of question + first sentence of answer, etc.)\n",
        "    question_to_append = question_arr[i][0:max_q_length]\n",
        "    q_a_pair.append(question_to_append)\n",
        "\n",
        "    answer_to_append = \"<START> \" + answer_arr[i][0:max_a_length] + \" <END>\"\n",
        "    q_a_pair.append(answer_to_append)\n",
        "\n",
        "    question_answer_pairs.append(q_a_pair)"
      ],
      "execution_count": null,
      "outputs": [
        {
          "output_type": "error",
          "ename": "SyntaxError",
          "evalue": "ignored",
          "traceback": [
            "\u001b[0;36m  File \u001b[0;32m\"<ipython-input-1-81884f194c14>\"\u001b[0;36m, line \u001b[0;32m17\u001b[0m\n\u001b[0;31m    max_sentences = min(len(question_arr)), len(answer_arr)) ## YOUR CODE HERE\u001b[0m\n\u001b[0m                                                           ^\u001b[0m\n\u001b[0;31mSyntaxError\u001b[0m\u001b[0;31m:\u001b[0m invalid syntax\n"
          ]
        }
      ]
    },
    {
      "cell_type": "markdown",
      "metadata": {
        "id": "2RgFlmiGm8vk"
      },
      "source": [
        "###Tokenizing our data\n",
        "\n",
        "Now that we've preprocessed our text, let's start turning it into a form that our machines can interpret. **Tokenization** is the process of turning our sentences into a list of individual tokens, like words. For example:\n",
        "\n",
        "1. Pre-tokenization: \"Hello, I really like computers\"\n",
        "2. Post-tokenization: [\"Hello,\" , \"I\", \"really\", \"like\", \"computers\"]\n",
        "\n",
        "**Question**: How can we tokenize sentences?\n",
        "\n",
        "**Exercise**: Write a function to tokenize sentences."
      ]
    },
    {
      "cell_type": "code",
      "metadata": {
        "id": "Sr69eyU9yaGW"
      },
      "source": [
        "def tokenize(sentence):\n",
        "  \n",
        "\n",
        "  ## BEGIN YOUR CODE HERE\n",
        "  tokens = sentence.split(\" \")\n",
        "  ## END YOUR CODE HERE\n",
        "\n",
        "  return tokens"
      ],
      "execution_count": null,
      "outputs": []
    },
    {
      "cell_type": "code",
      "metadata": {
        "id": "8UZGD07cnEM8",
        "cellView": "form",
        "colab": {
          "base_uri": "https://localhost:8080/"
        },
        "outputId": "86dd6e91-6362-41a5-b105-050c0631404a"
      },
      "source": [
        "#@title Enter a sentence to test your tokenization function\n",
        "\n",
        "sentence = \"I love Inspirit AI!\" #@param {type:\"string\"}\n",
        "\n",
        "# split sentence by space\n",
        "split_sentence = tokenize(sentence)\n",
        "print(f\"The original sentence: {sentence}\")\n",
        "print(f\"The tokenized sentence: {split_sentence}\")"
      ],
      "execution_count": null,
      "outputs": [
        {
          "output_type": "stream",
          "name": "stdout",
          "text": [
            "The original sentence: I love Inspirit AI!\n",
            "The tokenized sentence: ['I', 'love', 'Inspirit', 'AI!']\n"
          ]
        }
      ]
    },
    {
      "cell_type": "markdown",
      "metadata": {
        "id": "NFW5ckJ7nn5T"
      },
      "source": [
        "###Padding our data\n",
        "\n",
        "For our neural network model to work, our input sentences must all be of the same length. However, as we've seen, some sentences are longer than others! Our sentences need to be all the same length, but some sentences are longer than others.\n",
        "\n",
        "So what can we do? If a sentence is too long, we will trim it. If a sentence is too short, we'll add some **padding tokens**.\n",
        "\n",
        "We also need to add **start tokens** and **end tokens**, which tell our program when a sentence is starting and ending respectively.\n",
        "\n",
        "**Question**: Why do we need start and end tokens? (Hint: consider what might happen if a sentence is too long and is trimmed!)\n",
        "\n",
        "####Example\n",
        "\n",
        "Let's run through how we might pad an example sentence. Suppose we have:\n",
        "\n",
        "`\"This is a really cool sentence!\"`\n",
        "\n",
        "First, we add our start and end tokens, which we represent with `\"<SOS>\"` and `\"<EOS>\"`:\n",
        "\n",
        "`\"<SOS> This is a really cool sentence! <EOS>\"`\n",
        "\n",
        "Suppose we want sentences to be 10 tokens long. Since our sentence is only 8 tokens long, we need to we add padding tokens, which we represent with `\"<pad>\"`:\n",
        "\n",
        "`\"<SOS> This is a really cool sentence! <EOS> <pad> <pad>\"`\n",
        "\n",
        "Alternatively, suppose we wanted sentences to be 6 tokens long. Then, we would trim our sentence (note: keep the \\<EOS\\>!):\n",
        "\n",
        "`\"<SOS> This is a really <EOS>\"`\n",
        "\n",
        "**Exercise**: Fill in the missing code blocks in the function below to add these features to our sentence data."
      ]
    },
    {
      "cell_type": "code",
      "metadata": {
        "id": "2SIJx7SZnt-N"
      },
      "source": [
        "def tokenize_and_pad(sentence, max_len):\n",
        "  \"\"\"\n",
        "    Tokenizes our sentence (splits up the individual words), adds <SOS> and <EOS> tags, \n",
        "    and, if it's too short, add, padding at the end (before <EOS>)\n",
        "  \"\"\"\n",
        "\n",
        "  sentence_arr = tokenize(sentence)\n",
        "\n",
        "  diff = max_len - (len(sentence_arr) + 2)\n",
        "\n",
        "  if diff > 0: # if too short, add padding + start/end tokens\n",
        "    ## BEGIN YOUR CODE HERE\n",
        "    tokenized_sentence = [\"<SOS>\"] + sentence_arr + [\"<EOS>\"] + ([\"<pad>\"] * diff)\n",
        "    ## END YOUR CODE HERE\n",
        "  elif diff == 0: # if right length, just add start/end tokens\n",
        "    ## BEGIN YOUR CODE HERE\n",
        "    tokenized_sentence = [\"<SOS>\"] + sentence_arr + [\"<EOS>\"] \n",
        "    ## END YOUR CODE HERE\n",
        "  else: # if too long, add start/end tokens, truncate\n",
        "    ## BEGIN YOUR CODE HERE\n",
        "    tokenized_sentence = [\"<SOS>\"] + sentence_arr[0:diff] + [\"<EOS>\"] \n",
        "    ## END YOUR CODE HERE\n",
        "\n",
        "  return tokenized_sentence\n",
        "  "
      ],
      "execution_count": null,
      "outputs": []
    },
    {
      "cell_type": "code",
      "metadata": {
        "id": "PBuC2jplnzso",
        "cellView": "form",
        "colab": {
          "base_uri": "https://localhost:8080/"
        },
        "outputId": "c1c982c9-8425-450a-fdd2-f5c79145b157"
      },
      "source": [
        "#@title Run this code chunk to see your function at work! Enter a sentence and a maximum length and see how it looks when tokenized and given padding\n",
        "\n",
        "sentence = \"Hello from the other side! Hello from the other side!\" #@param {type:\"string\"}\n",
        "max_len =  10#@param {type:\"integer\"}\n",
        "\n",
        "print(tokenize_and_pad(sentence, max_len))"
      ],
      "execution_count": null,
      "outputs": [
        {
          "output_type": "stream",
          "name": "stdout",
          "text": [
            "['<SOS>', 'Hello', 'from', 'the', 'other', 'side!', 'Hello', 'from', 'the', '<EOS>']\n"
          ]
        }
      ]
    },
    {
      "cell_type": "markdown",
      "metadata": {
        "id": "derYzyw4oGo-"
      },
      "source": [
        "Phew, that was a lot! Cleaning and preparing a dataset is one of the most important parts of creating a good machine learning model. After all, a good model is nothing without good data! Speaking of which, it's about time we begin designing our model...."
      ]
    },
    {
      "cell_type": "markdown",
      "metadata": {
        "id": "U6DmaqOifoPJ"
      },
      "source": [
        "##Modeling our data with a Sequential Neural Network"
      ]
    },
    {
      "cell_type": "markdown",
      "metadata": {
        "id": "RZu65KcbqhaA"
      },
      "source": [
        "### Review: What are neural networks?\n",
        "\n",
        "By now, you've had the chance to use regular **neural networks**! Neural networks are a machine learning model loosely modeled after the human nervous system. They are commonly used for a variety of tasks, such as facial recognition, language generation, stock prediction, and more!\n",
        "\n",
        "Neural networks operate by stacking layers and layers of **neurons**, each of which detects a portion of the input. However, there are some problems with traditional neural networks that we run into when trying to use them for natural language processing.\n",
        "\n",
        "![link](https://cdn.kastatic.org/ka-perseus-images/53bcace05b8a222f57f0c07f86f92354c4614d01.svg)\n",
        "\n",
        "For example, let's take a look at the above neural network.\n",
        "\n",
        "**Question**: First of all, what does this model assume about the length of the input text? What about the length of the output text?\n",
        "\n",
        "**Question**: Word order matters. For example, \"man ate chicken\" and \"chicken ate man\" are quite distinct! Furthermore, each word gives crucial information for the next one. Does this model capture those relationships?\n",
        "\n"
      ]
    },
    {
      "cell_type": "markdown",
      "metadata": {
        "id": "47Kp2f_zoE_Y"
      },
      "source": [
        "###Recurrent Neural Networks\n",
        "\n",
        "In order to resolve these problems, we must explore a different type of neural network, one that can handle *sequence data*, called a **recurrent neural network** (RNN).\n",
        "\n",
        "![link](https://cdn-images-1.medium.com/freeze/max/1000/1*SKGAqkVVzT6co-sZ29ze-g.png?q=20)\n",
        "\n",
        "RNNs are designed for sequence data: the model processes its input and products output *in order*.\n",
        "\n",
        "So how do RNNs work?\n",
        "\n",
        "In brief, as an RNN processes its input, it maintains a **hidden state vector** to remember some of what it's seen so far.\n",
        "\n",
        "**Question**: For text generation, what should an RNN remember?\n",
        "\n",
        "With each new input, the model uses the old hidden state to compute a new hidden state and a new output.\n",
        "\n",
        "For this type of question, where we try to predict what comes next, based off of what came before it, RNNs work really well.\n",
        "\n",
        "**Optional**: For another look into RNNs, check out [this Medium article](https://towardsdatascience.com/recurrent-neural-networks-d4642c9bc7ce)."
      ]
    },
    {
      "cell_type": "markdown",
      "metadata": {
        "id": "rOTIR7hcoWr2"
      },
      "source": [
        "###Long-Short Term Memory Networks\n",
        "\n",
        "For our notebook, we'll actually use a specialized type of RNN called a **long-short term memory network** (LSTM). An LSTM is typically more accurate than a basic RNN, especially for longer sequences, because it also maintains a form of *long-term memory* in addition to the *short-term memory* which an RNN maintains. Consequently, it is able to remember important pieces of information for a long period of time, whereas an RNN is only able to maintain information for a short period of time.\n",
        "\n",
        "We won't go into the nitty-gritty of LSTMs since they are somewhat complex, but if you want a deeper understanding of LSTMs, please check out the Challenge Exercise portion of this notebook.\n",
        "\n",
        "**Question**: Why is an RNN only able to maintain information for a short period of time? (hint: think about what happens to information stored in the hidden state vector as we continue writing to the hidden state vector!)"
      ]
    },
    {
      "cell_type": "markdown",
      "metadata": {
        "id": "LxN3Jn9yoKk3"
      },
      "source": [
        "###The Seq2Seq model design\n",
        "\n",
        "We'll put two LSTMs together to create our model, in a type of design called **Seq2Seq**. The Seq2Seq design is used in scenarios where one wants to model both what someone is telling the model and what the model should say in response. This allows the model to process the entire input before formulating a response, which is very useful for language data. This seems like a great model to use for our chatbot!\n",
        "\n",
        "The Seq2Seq model design has two main components:\n",
        "1. One LSTM which processes the input and encodes the information into word embeddings. We call this LSTM the **encoder**.\n",
        "2. One LSTM which takes the word embeddings and decodes them into a response. We call this LSTM the **decoder**.\n",
        "\n",
        "![link](http://4.bp.blogspot.com/-aArS0l1pjHQ/Vjj71pKAaEI/AAAAAAAAAxE/Nvy1FSbD_Vs/s1600/2TFstaticgraphic_alt-01.png)"
      ]
    },
    {
      "cell_type": "markdown",
      "metadata": {
        "id": "-KaqxDYJrANC"
      },
      "source": [
        "### Creating our model"
      ]
    },
    {
      "cell_type": "code",
      "metadata": {
        "id": "_UE-p0u9NHqY"
      },
      "source": [
        "#@title Run this cell to do some initialization\n",
        "\n",
        "# re-create questions, answers\n",
        "questions = [arr[0] for arr in question_answer_pairs]\n",
        "answers = [arr[1] for arr in question_answer_pairs]\n",
        "\n",
        "target_regex = '!\"#$%&()*+,-./:;<=>?@[\\]^_`{|}~\\t\\n\\'0123456789'\n",
        "tokenizer = Tokenizer(filters=target_regex)\n",
        "tokenizer.fit_on_texts(questions + answers)\n",
        "VOCAB_SIZE = len(tokenizer.word_index) + 1\n",
        "\n",
        "# create encoder input data\n",
        "tokenized_questions = tokenizer.texts_to_sequences(questions)\n",
        "maxlen_questions = max([len(x) for x in tokenized_questions])\n",
        "#encoder_input_data = pad_sequences(tokenized_questions,\n",
        "#                                   maxlen=maxlen_questions,\n",
        "#                                   padding='post')\n",
        "\n",
        "# create decoder input data\n",
        "tokenized_answers = tokenizer.texts_to_sequences(answers)\n",
        "maxlen_answers = max([len(x) for x in tokenized_answers])\n",
        "#decoder_input_data = pad_sequences(tokenized_answers,\n",
        "#                                   maxlen=maxlen_answers,\n",
        "#                                   padding='post')\n",
        "\n",
        "# create decoder output data\n",
        "#for i in range(len(tokenized_answers)):\n",
        "#    tokenized_answers[i] = tokenized_answers[i][1:]\n",
        "#padded_answers = pad_sequences(tokenized_answers, maxlen=maxlen_answers, padding='post')\n",
        "#decoder_output_data = to_categorical(padded_answers, VOCAB_SIZE)"
      ],
      "execution_count": null,
      "outputs": []
    },
    {
      "cell_type": "markdown",
      "metadata": {
        "id": "lcoce08NzBz9"
      },
      "source": [
        "**Exercise**: Fill in the missing code blocks in the cell below to complete the Seq2Seq model design.\n",
        " * First, we need to process our input through our encoder LSTM. In the first missing code block, create an `LSTM` layer with 200 units which returns the last state (`return_state=True`). Store this layer in `enc_lstm`.\n",
        " * Next, we need to process our embeddings through our decoder LSTM. In the second missing code block, create an `LSTM` layer with 200 units which returns the last state (`return_state=True`) *and* returns the last output (`return_sequences=True`). Store this layer in `dec_lstm`.\n",
        " * Finally, we want to run the output of our decoder through a fully connected neural network. In the third missing code block, create a `Dense` layer with `VOCAB_SIZE` units and a softmax activation function. Store this layer in `dec_dense`.\n",
        "\n",
        "**Hint**: Check the Keras documentation for details on [the `LSTM` layer](https://keras.io/api/layers/recurrent_layers/lstm/) and for details on [the `Dense` layer](https://keras.io/api/layers/core_layers/dense/)."
      ]
    },
    {
      "cell_type": "code",
      "metadata": {
        "id": "kar6ZF4NNdct",
        "cellView": "both"
      },
      "source": [
        "enc_inputs = Input(shape=(None,))\n",
        "enc_embedding = Embedding(VOCAB_SIZE, 200, mask_zero=True)(enc_inputs)\n",
        "enc_lstm = None ## YOUR CODE HERE\n",
        "_, state_h, state_c = enc_lstm(enc_embedding)\n",
        "enc_states = [state_h, state_c]\n",
        "\n",
        "dec_inputs = Input(shape=(None,))\n",
        "dec_embedding = Embedding(VOCAB_SIZE, 200, mask_zero=True)(dec_inputs)\n",
        "dec_lstm = None ## YOUR CODE HERE\n",
        "dec_outputs, _, _ = dec_lstm(dec_embedding, initial_state=enc_states)\n",
        "\n",
        "dec_dense = None ## YOUR CODE HERE\n",
        "output = dec_dense(dec_outputs)"
      ],
      "execution_count": null,
      "outputs": []
    },
    {
      "cell_type": "markdown",
      "metadata": {
        "id": "T3u8HBl12xsJ"
      },
      "source": [
        "Great job! You've created a Seq2Seq model.\n",
        "\n",
        "**Exercise**: Next, use `model.compile()` to compile your model with an `RMSprop` optimizer and a `categorical_crossentropy` loss function. Then print out a summary of your model using `model.summary()`.\n",
        "\n",
        "**Hint**: Check the Keras documentation for [details on `model.compile`](https://keras.io/api/models/model_training_apis/#compile-method)."
      ]
    },
    {
      "cell_type": "code",
      "metadata": {
        "id": "jAYeutokzKnq"
      },
      "source": [
        "model = Model([enc_inputs, dec_inputs], output)\n",
        "\n",
        "## YOUR CODE HERE"
      ],
      "execution_count": null,
      "outputs": []
    },
    {
      "cell_type": "code",
      "metadata": {
        "id": "z6OojFoyNlgG",
        "cellView": "form"
      },
      "source": [
        "#@title Run this code chunk to do some clean-up\n",
        "tf.keras.backend.clear_session()"
      ],
      "execution_count": null,
      "outputs": []
    },
    {
      "cell_type": "markdown",
      "metadata": {
        "id": "AglimD2QNtzR"
      },
      "source": [
        "###\"Training\" our model\n",
        "\n",
        "Alright, our model is ready to go!\n",
        "\n",
        "Normally, we would do training now. However, in our case, we'll use a pre-trained model instead. If we were to train our model from scratch, it would take *waaaay* too long to train -- much longer than we have classtime for!\n",
        "\n",
        "For this reason, it is typical for large tech companies with more resources to train models such as Seq2Seq on large amounts of data and then release the weights of their trained models to the public. Then others, such as ourselves, can take these trained models, train just a couple layers on top of them to learn domain-specific knowledge, and then have a fully-functional model all trained and ready to go!\n",
        "\n",
        "**Exercise**: Load a set of pre-trained weights into our model. To do this, you can use the function `model.load_weights()`.\n",
        "\n",
        "**Hint**: As usual, check the Keras documentation for [details on model.load_weights](https://www.tensorflow.org/api_docs/python/tf/keras/Model#load_weights)."
      ]
    },
    {
      "cell_type": "code",
      "metadata": {
        "id": "4UJpKKAEPS2m"
      },
      "source": [
        "# The filepath to our pre-trained weights\n",
        "path_to_weight = \"chatbot_seq2seq_v3.h5\"\n",
        "\n",
        "## YOUR CODE HERE"
      ],
      "execution_count": null,
      "outputs": []
    },
    {
      "cell_type": "markdown",
      "metadata": {
        "id": "veoP8fSePXyL"
      },
      "source": [
        "## Evaluation -- so how's our chatbot looking?\n",
        "\n",
        "Model designed, check. Model trained, \"check\". You've successfully created a fully-functional and fully-trained model -- awesome! All that's left to do now is test out our model and see how it does!"
      ]
    },
    {
      "cell_type": "code",
      "metadata": {
        "id": "RrRpDyRpPdzO"
      },
      "source": [
        "#@title Run this cell to do some initialization\n",
        "def make_inference_models():\n",
        "    dec_state_input_h = Input(shape=(200,))\n",
        "    dec_state_input_c = Input(shape=(200,))\n",
        "    dec_states_inputs = [dec_state_input_h, dec_state_input_c]\n",
        "    dec_outputs, state_h, state_c = dec_lstm(dec_embedding,\n",
        "                                             initial_state=dec_states_inputs)\n",
        "    dec_states = [state_h, state_c]\n",
        "    dec_outputs = dec_dense(dec_outputs)\n",
        "    dec_model = Model(\n",
        "        inputs=[dec_inputs] + dec_states_inputs,\n",
        "        outputs=[dec_outputs] + dec_states)\n",
        "    print('Inference decoder:')\n",
        "    dec_model.summary()\n",
        "    print('Inference encoder:')\n",
        "    enc_model = Model(inputs=enc_inputs, outputs=enc_states)\n",
        "    enc_model.summary()\n",
        "    return enc_model, dec_model\n",
        "\n",
        "def str_to_tokens(sentence: str):\n",
        "    words = sentence.lower().split()\n",
        "    tokens_list = list()\n",
        "    for current_word in words:\n",
        "        result = tokenizer.word_index.get(current_word, '')\n",
        "        if result != '':\n",
        "            tokens_list.append(result)\n",
        "    return pad_sequences([tokens_list],\n",
        "                         maxlen=maxlen_questions,\n",
        "                         padding='post')\n",
        "    \n",
        "enc_model, dec_model = make_inference_models()\n"
      ],
      "execution_count": null,
      "outputs": []
    },
    {
      "cell_type": "code",
      "metadata": {
        "id": "a9pEGmRgiyI6"
      },
      "source": [
        "#@title Run this cell and type your question to see what our chatbot says!\n",
        "\n",
        "question = \"Could you give me some advice?\" #@param {type:\"string\"}\n",
        "for _ in range(1):\n",
        "    states_values = enc_model.predict(\n",
        "        str_to_tokens(question))\n",
        "    empty_target_seq = np.zeros((1, 1))\n",
        "    empty_target_seq[0, 0] = tokenizer.word_index['start']\n",
        "    stop_condition = False\n",
        "    decoded_translation = ''\n",
        "    while not stop_condition:\n",
        "        dec_outputs, h, c = dec_model.predict([empty_target_seq]\n",
        "                                              + states_values)\n",
        "        sampled_word_index = np.argmax(dec_outputs[0, -1, :])\n",
        "        sampled_word = None\n",
        "        for word, index in tokenizer.word_index.items():\n",
        "            if sampled_word_index == index:\n",
        "                if word != 'end':\n",
        "                    decoded_translation += ' {}'.format(word)\n",
        "                sampled_word = word\n",
        "\n",
        "        if sampled_word == 'end' \\\n",
        "                or len(decoded_translation.split()) \\\n",
        "                > maxlen_answers:\n",
        "            stop_condition = True\n",
        "\n",
        "        empty_target_seq = np.zeros((1, 1))\n",
        "        empty_target_seq[0, 0] = sampled_word_index\n",
        "        states_values = [h, c]\n",
        "\n",
        "    print(decoded_translation)"
      ],
      "execution_count": null,
      "outputs": []
    },
    {
      "cell_type": "markdown",
      "metadata": {
        "id": "yM8R3_Cw63KH"
      },
      "source": [
        "####Discussion\n",
        "\n",
        "1. How did our pretrained model do? Do you think it's an improvement over our ELIZA chatbot from last notebook? Why or why not?\n",
        "2. Are there some responses that surprise you?\n",
        "3. Are there certain types of mistakes that the program keeps making? \n",
        "4. How do you think we can improve our program? As you can see, it's still definitely a work in progress, and we'll work on improving it in our next notebook. Can you think of some ways that we could go about trying to improve it?\n",
        "\n",
        "Food for thought:\n",
        "  - What would happen if we gave our chatbot more examples to learn from?\n",
        "  - This program that we're using was trained for 100 epochs. Do you think that we should train it for longer? How long is long enough?\n",
        "  - Should we use more neurons in our neural network and make it bigger?"
      ]
    },
    {
      "cell_type": "markdown",
      "metadata": {
        "id": "gxwu4tbTlcWp"
      },
      "source": [
        "###Conclusion\n",
        "\n",
        "Congrats! Today, you've built an even better chatbot, one that's powered by artificial intelligence and machine learning. Hopefully you can see that our chatbot is looking a little bit more and more like the chatbots and voice assistants that we take for granted today, such as Alexa and Echo. You've learned about the key technologies that have driven modern chatbots; most of the current cutting-edge work in language generation and in chatbots is some improvement on the programs that you've learned about today. In our next notebook, we'll look at even more cutting-edge machine learning techniques in order to make our chatbots perform better, while also tying back our chatbot to our question of mental health and thinking about how well our chatbots would work in that context. Till next time!"
      ]
    },
    {
      "cell_type": "markdown",
      "metadata": {
        "id": "DatD-SORn5k1"
      },
      "source": [
        "###Challenge Exercise: How do LSTMs actually work?"
      ]
    },
    {
      "cell_type": "markdown",
      "metadata": {
        "id": "9fcs9AEes2e9"
      },
      "source": [
        "#### Let's examine why LSTMs were created in the first place\n",
        "\n",
        "Regular RNNs suffer from what's called a \"vanishing gradient\". What does this mean?\n",
        "\n",
        "For example, if you gave an RNN two sentences with blanks:\n",
        "\n",
        "1. \"I loved traveling to France, where the weather was lovely and the food was extraordinary. I particularly enjoyed exploring the capital city of ____.\"\n",
        "\n",
        "2. \"I'm a person who just really enjoys traveling and trying all the good food around the world. The capital of France is _____.\"\n",
        "\n",
        "Which one do you think a typical RNN would do better at predicting?\n",
        "\n",
        "A typical RNN would do better with sentence (2) than sentence (1).\n",
        "\n",
        "Why?\n",
        "\n",
        "So here, the correct word for each of the blanks is \"Paris\", the capital of France. The key bit of information that you would've needed to see was the word \"France\". However, in sentence (1), France is in the beginning of the string, and the blank is at the end, while in sentence (2), France is near the blank. \n",
        "\n",
        "Typical RNNs place more weight on more recent information when trying to predict, say, what comes next. Functionally, this makes sense, since it's often likely that the information that helps predict what word comes next is probably the words that came just before it. However, there are definitely instances where we want our program to, say, remember what came up much earlier in a long conversation, and typical RNNs can't do that too well.\n",
        "\n",
        "![link](http://images.memes.com/meme/721858)\n",
        "\n",
        "\n",
        "LSTMs and GRUs are two similar models which are both modifications of RNNs that were designed to get around this problem. Below is a structure of an LSTM cell, which is the \"fundamental unit\" of an LSTM (similar to how the fundamental unit of a neural network is the neuron).\n",
        "\n",
        "![link](https://i.stack.imgur.com/voZql.jpg)\n",
        "\n",
        "The key takeaway here is that LSTMs can selectively \"choose\" what things to remember and what things to forget. \n",
        "\n",
        "Typical RNNs have one \"hidden unit\", which keeps track of, for example, what was said earlier in a sentence. However, this hidden unit can be heavily influenced by what it's seen more recently, and so things that were seen earlier in the sequence become \"forgotten\" as the RNN gets further along in a sentence (because as the RNN gets further along into a sentence, it \"writes over\" older information to make room for new information)\n",
        "\n",
        "For example: \n",
        "\n",
        "\"I loved traveling to France, where the weather was lovely and the food was extraordinary. I particularly enjoyed exploring the capital city of ____.\"\n",
        "\n",
        "By the time that an RNN gets to the end of this, it's already forgotten that the word \"France\" exists. It's not quite sure which words to treat as important so it's going to default by assuming that words which are later in the sequence are more important than those earlier in the sequence. \n",
        "\n",
        "However, an LSTM can \"choose\" what it remembers and what it forgets. For example, in the sequence: \n",
        "\n",
        "\"I loved traveling to France, where the weather was lovely and the food was extraordinary. I particularly enjoyed exploring the capital city of ____.\"\n",
        "\n",
        "The phrase is passed in, one word at a time. So, for example, \n",
        "\n",
        "\n",
        "\n",
        "• \"I\"\n",
        "\n",
        "• \"I loved\"\n",
        "\n",
        "• \"I loved traveling\"\n",
        "\n",
        "• \"I loved travelng to\"\n",
        "\n",
        "• \"I loved traveling to France\"\n",
        "\n",
        "Intuitively, at each step, an LSTM can look at the new word and ask \"how important is it that I remember this piece of information?\"\n",
        "\n",
        "For example, when the LSTM sees this: \n",
        "\n",
        "• \"I loved traveling to France\"\n",
        "\n",
        "The LSTM might place weight on \"traveling\" and \"France\" because those are the key themes of the sentence. When the LSTM gets to this point though in the sequence:\n",
        "\n",
        "• \"I loved traveling to France, where the weather was lovely and the food was extraordinary.\"\n",
        "\n",
        "The LSTM can still place a great deal of weight on \"traveling\" and \"France\", even though they were earlier in the sentence, because the LSTM can choose which past words are going to be important to predicting what comes next, regardless of where those words were in the sequence. \n",
        "\n",
        "#### Why is this important for us?\n",
        "\n",
        "We want a program where a person can ask a question, of any given length, and our program will be able to understand it. One thing to consider is that in mental health, it's common for people to say, upfront, what's bothering them (e.g., anxiety), and then to go on and talk about what they've been going through recently. We want our program to be robust enough so that, as people talk with our chatbot, the chatbot won't forget the main topic of conversaton (e.g, \"this person is feeling anxious\")"
      ]
    }
  ]
}